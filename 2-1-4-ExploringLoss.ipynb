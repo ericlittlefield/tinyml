{
  "cells": [
    {
      "cell_type": "code",
      "execution_count": 6,
      "metadata": {
        "colab": {
          "base_uri": "https://localhost:8080/"
        },
        "id": "PwrR2q7tZKPi",
        "outputId": "3da5cec1-5fe8-4ec2-90ae-9a38eec2e150"
      },
      "outputs": [
        {
          "output_type": "stream",
          "name": "stdout",
          "text": [
            "Real Y is [-3, -1, 1, 3, 5, 7]\n",
            "My Y is   [-3.000001, -1.0, 1.0000010000000001, 3.0000020000000003, 5.000003, 7.000004000000001]\n",
            "My loss is: 5.567764363608273e-06\n"
          ]
        }
      ],
      "source": [
        "import math\n",
        "# Edit these parameters to try different loss measurements. Rerun this cell when\n",
        "# done. Your Y will be calculated as Y=wX+b, so if w=3, and b=-1, then Y=3x-1.\n",
        "\n",
        "w = 2.000001\n",
        "b = -1\n",
        "\n",
        "x = [-1, 0, 1, 2, 3, 4]\n",
        "y = [-3, -1, 1, 3, 5, 7]\n",
        "myY = []\n",
        "loss = []\n",
        "\n",
        "\n",
        "for thisX in x:\n",
        "  thisY = (w*thisX)+b\n",
        "  myY.append(thisY)\n",
        "\n",
        "print(f\"Real Y is {str(y)}\")\n",
        "print(f\"My Y is   {str(myY)}\")\n",
        "\n",
        "# let's calculate the loss\n",
        "total_square_error = 0\n",
        "for i in range(0, len(y)):\n",
        "  square_error = (y[i] - myY[i]) ** 2\n",
        "  total_square_error += square_error\n",
        "\n",
        "print(f\"My loss is: {str(math.sqrt(total_square_error))}\")\n",
        "\n",
        "def keep_searching(loss, limit):\n",
        "\n",
        "  if(len(loss) == 0 or loss.len() < 2 ):\n",
        "    return True\n",
        "\n",
        "  err = abs(loss[1]-loss[0])\n",
        "\n",
        "  return err < limit\n",
        "\n",
        "\n",
        "\n",
        ""
      ]
    },
    {
      "cell_type": "code",
      "execution_count": null,
      "metadata": {
        "id": "hd4E91-5Ofzr"
      },
      "outputs": [],
      "source": []
    }
  ],
  "metadata": {
    "colab": {
      "name": "ExploringLoss.ipynb",
      "provenance": []
    },
    "kernelspec": {
      "display_name": "Python 3",
      "language": "python",
      "name": "python3"
    },
    "language_info": {
      "codemirror_mode": {
        "name": "ipython",
        "version": 3
      },
      "file_extension": ".py",
      "mimetype": "text/x-python",
      "name": "python",
      "nbconvert_exporter": "python",
      "pygments_lexer": "ipython3",
      "version": "3.10.11"
    }
  },
  "nbformat": 4,
  "nbformat_minor": 0
}