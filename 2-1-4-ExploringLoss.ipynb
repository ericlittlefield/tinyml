{
  "cells": [
    {
      "cell_type": "code",
      "execution_count": 7,
      "metadata": {
        "colab": {
          "base_uri": "https://localhost:8080/",
          "height": 245
        },
        "id": "PwrR2q7tZKPi",
        "outputId": "18d54acc-782a-45d8-9c13-3369d1fb2399"
      },
      "outputs": [
        {
          "output_type": "stream",
          "name": "stdout",
          "text": [
            "Real Y is [-3, -1, 1, 3, 5, 7]\n",
            "My Y is   [7.000004000000001]\n"
          ]
        },
        {
          "output_type": "error",
          "ename": "IndexError",
          "evalue": "list index out of range",
          "traceback": [
            "\u001b[0;31m---------------------------------------------------------------------------\u001b[0m",
            "\u001b[0;31mIndexError\u001b[0m                                Traceback (most recent call last)",
            "\u001b[0;32m/tmp/ipython-input-3774680442.py\u001b[0m in \u001b[0;36m<cell line: 0>\u001b[0;34m()\u001b[0m\n\u001b[1;32m     32\u001b[0m   \u001b[0mtotal_square_error\u001b[0m \u001b[0;34m=\u001b[0m \u001b[0;36m0\u001b[0m\u001b[0;34m\u001b[0m\u001b[0;34m\u001b[0m\u001b[0m\n\u001b[1;32m     33\u001b[0m   \u001b[0;32mfor\u001b[0m \u001b[0mi\u001b[0m \u001b[0;32min\u001b[0m \u001b[0mrange\u001b[0m\u001b[0;34m(\u001b[0m\u001b[0;36m0\u001b[0m\u001b[0;34m,\u001b[0m \u001b[0mlen\u001b[0m\u001b[0;34m(\u001b[0m\u001b[0my\u001b[0m\u001b[0;34m)\u001b[0m\u001b[0;34m)\u001b[0m\u001b[0;34m:\u001b[0m\u001b[0;34m\u001b[0m\u001b[0;34m\u001b[0m\u001b[0m\n\u001b[0;32m---> 34\u001b[0;31m     \u001b[0msquare_error\u001b[0m \u001b[0;34m=\u001b[0m \u001b[0;34m(\u001b[0m\u001b[0my\u001b[0m\u001b[0;34m[\u001b[0m\u001b[0mi\u001b[0m\u001b[0;34m]\u001b[0m \u001b[0;34m-\u001b[0m \u001b[0mmyY\u001b[0m\u001b[0;34m[\u001b[0m\u001b[0mi\u001b[0m\u001b[0;34m]\u001b[0m\u001b[0;34m)\u001b[0m \u001b[0;34m**\u001b[0m \u001b[0;36m2\u001b[0m\u001b[0;34m\u001b[0m\u001b[0;34m\u001b[0m\u001b[0m\n\u001b[0m\u001b[1;32m     35\u001b[0m     \u001b[0mtotal_square_error\u001b[0m \u001b[0;34m+=\u001b[0m \u001b[0msquare_error\u001b[0m\u001b[0;34m\u001b[0m\u001b[0;34m\u001b[0m\u001b[0m\n\u001b[1;32m     36\u001b[0m \u001b[0;34m\u001b[0m\u001b[0m\n",
            "\u001b[0;31mIndexError\u001b[0m: list index out of range"
          ]
        }
      ],
      "source": [
        "import math\n",
        "# Edit these parameters to try different loss measurements. Rerun this cell when\n",
        "# done. Your Y will be calculated as Y=wX+b, so if w=3, and b=-1, then Y=3x-1.\n",
        "\n",
        "def keep_searching(loss, limit):\n",
        "\n",
        "  if(len(loss) == 0 or loss.len() < 2 ):\n",
        "    return True\n",
        "\n",
        "  err = abs(loss[-1]-loss[-2])\n",
        "\n",
        "  return err < limit\n",
        "\n",
        "w = 2.000001\n",
        "b = -1\n",
        "\n",
        "x = [-1, 0, 1, 2, 3, 4]\n",
        "y = [-3, -1, 1, 3, 5, 7]\n",
        "myY = []\n",
        "loss = []\n",
        "\n",
        "while(keep_searching(loss, 1)):\n",
        "\n",
        "  for thisX in x:\n",
        "    thisY = (w*thisX)+b\n",
        "    myY.append(thisY)\n",
        "\n",
        "  print(f\"Real Y is {str(y)}\")\n",
        "  print(f\"My Y is   {str(myY)}\")\n",
        "\n",
        "    # let's calculate the loss\n",
        "  total_square_error = 0\n",
        "  for i in range(0, len(y)):\n",
        "    square_error = (y[i] - myY[i]) ** 2\n",
        "    total_square_error += square_error\n",
        "\n",
        "  loss.append(math.sqrt(total_square_error))\n",
        "  print(f\"My loss is: {str(loss[-1])}\")\n",
        "  if(loss.len()>2):\n",
        "    delta = loss[-1]-loss[-2]\n",
        "    w = w - 0.01*delta\n",
        "    b = b - 0.01*delta\n",
        "\n",
        "\n",
        "\n",
        "\n",
        "\n",
        "\n",
        "\n",
        ""
      ]
    },
    {
      "cell_type": "code",
      "execution_count": null,
      "metadata": {
        "id": "hd4E91-5Ofzr"
      },
      "outputs": [],
      "source": []
    }
  ],
  "metadata": {
    "colab": {
      "name": "ExploringLoss.ipynb",
      "provenance": []
    },
    "kernelspec": {
      "display_name": "Python 3",
      "language": "python",
      "name": "python3"
    },
    "language_info": {
      "codemirror_mode": {
        "name": "ipython",
        "version": 3
      },
      "file_extension": ".py",
      "mimetype": "text/x-python",
      "name": "python",
      "nbconvert_exporter": "python",
      "pygments_lexer": "ipython3",
      "version": "3.10.11"
    }
  },
  "nbformat": 4,
  "nbformat_minor": 0
}